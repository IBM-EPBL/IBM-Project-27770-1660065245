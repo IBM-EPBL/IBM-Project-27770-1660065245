{
  "nbformat": 4,
  "nbformat_minor": 0,
  "metadata": {
    "colab": {
      "provenance": []
    },
    "kernelspec": {
      "name": "python3",
      "display_name": "Python 3"
    },
    "language_info": {
      "name": "python"
    }
  },
  "cells": [
    {
      "cell_type": "code",
      "execution_count": 1,
      "metadata": {
        "id": "HwL3bHPFQypg"
      },
      "outputs": [],
      "source": [
        "# Python code\n",
        "\n",
        "import requests as reqs\n",
        "\n",
        "def get(myLocation,APIKEY):\n",
        "    apiURL = f\"https://api.openweathermap.org/data/2.5/weather?q={myLocation}&appid={APIKEY}\"\n",
        "    responseJSON = (reqs.get(apiURL)).json()\n",
        "    returnObject = {\n",
        "        \"temperature\" : responseJSON['main']['temp'] - 273.15,\n",
        "        \"weather\" : [responseJSON['weather'][_]['main'].lower() for _ in range(len(responseJSON['weather']))],\n",
        "        \"visibility\" : responseJSON['visibility']/100, # visibility in percentage where 10km is 100% and 0km is 0%\n",
        "    }\n",
        "    if(\"rain\" in responseJSON):\n",
        "        returnObject[\"rain\"] = [responseJSON[\"rain\"][key] for key in responseJSON[\"rain\"]]\n",
        "    return(returnObject)"
      ]
    },
    {
      "cell_type": "code",
      "source": [
        "# Python code\n",
        "\n",
        "# IMPORT SECTION STARTS\n",
        "\n",
        " # python -m pip install wiotp\n",
        "import time\n",
        "\n",
        "# IMPORT SECTION ENDS\n",
        "# -----------------------------------------------\n",
        "# API CONFIG SECTION STARTS\n",
        "\n",
        "myConfig = {\n",
        "    \"identity\" : {\n",
        "        \"orgId\" : \"f59trs\",\n",
        "        \"typeId\" : \"testdevice\",\n",
        "        \"deviceId\" : \"device1\"\n",
        "    },\n",
        "    \"auth\" : {\n",
        "        \"token\" : \"Jrwa7c8Os2Zpq)WW18\"\n",
        "    }\n",
        "}\n",
        "\n",
        "# API CONFIG SECTION ENDS\n",
        "# -----------------------------------------------\n",
        "# FUNCTIONS SECTION STARTS\n",
        "\n",
        "def myCommandCallback(cmd):\n",
        "    print(\"recieved cmd : \",cmd)\n",
        "\n",
        "\n",
        "def logData2Cloud(location,temperature,visibility):\n",
        "    client = wiotp.sdk.device.DeviceClient(config=myConfig,logHandlers=None)\n",
        "    client.connect()\n",
        "    client.publishEvent(eventId=\"status\",msgFormat=\"json\",data={\n",
        "        \"temperature\" : temperature,\n",
        "        \"visibility\" : visibility,\n",
        "        \"location\" : location\n",
        "    },qos=0,onPublish=None)\n",
        "    client.commandCallback = myCommandCallback\n",
        "    client.disconnect()\n",
        "    time.sleep(1)\n",
        "\n",
        "# FUNCTIONS SECTION ENDS"
      ],
      "metadata": {
        "id": "jdhtsdJMRGk1"
      },
      "execution_count": 4,
      "outputs": []
    },
    {
      "cell_type": "code",
      "source": [
        "# Python code\n",
        "\n",
        "# IMPORT SECTION STARTS\n",
        "\n",
        "\n",
        "from datetime import datetime as dt\n",
        "\n",
        "\n",
        "# IMPORT SECTION ENDS\n",
        "# -----------------------------------------------\n",
        "# UTILITY LOGIC SECTION STARTS\n",
        "def processConditions(myLocation,APIKEY,localityInfo):\n",
        "    weatherData = weather.get(myLocation,APIKEY)\n",
        "\n",
        "    log2cloud(myLocation,weatherData[\"temperature\"],weatherData[\"visibility\"])\n",
        "\n",
        "    finalSpeed = localityInfo[\"usualSpeedLimit\"] if \"rain\" not in weatherData else localityInfo[\"usualSpeedLimit\"]/2\n",
        "    finalSpeed = finalSpeed if weatherData[\"visibility\"]>35 else finalSpeed/2\n",
        "\n",
        "    if(localityInfo[\"hospitalsNearby\"]):\n",
        "        # hospital zone\n",
        "        doNotHonk = True\n",
        "    else:\n",
        "        if(localityInfo[\"schools\"][\"schoolZone\"]==False):\n",
        "            # neither school nor hospital zone\n",
        "            doNotHonk = False\n",
        "        else:\n",
        "            # school zone\n",
        "            now = [dt.now().hour,dt.now().minute]\n",
        "            activeTime = [list(map(int,_.split(\":\"))) for _ in localityInfo[\"schools\"][\"activeTime\"]]\n",
        "            doNotHonk = activeTime[0][0]<=now[0]<=activeTime[1][0] and activeTime[0][1]<=now[1]<=activeTime[1][1]\n",
        "\n",
        "    return({\n",
        "        \"speed\" : finalSpeed,\n",
        "        \"doNotHonk\" : doNotHonk\n",
        "    })\n",
        "\n",
        "# UTILITY LOGIC SECTION ENDS"
      ],
      "metadata": {
        "id": "p6WtyOkaRabt"
      },
      "execution_count": 6,
      "outputs": []
    },
    {
      "cell_type": "code",
      "source": [
        "# Python code\n",
        "\n",
        "# IMPORT SECTION STARTS\n",
        "\n",
        "3\n",
        "\n",
        "# IMPORT SECTION ENDS\n",
        "# -----------------------------------------------\n",
        "# USER INPUT SECTION STARTS\n",
        "\n",
        "myLocation = \"Chennai,IN\"\n",
        "APIKEY = \"9cd610e5fd400c74212074c7ace0d62c\"\n",
        "\n",
        "localityInfo = {\n",
        "    \"schools\" : {\n",
        "        \"schoolZone\" : True,\n",
        "        \"activeTime\" : [\"7:00\",\"17:30\"] # schools active from 7 AM till 5:30 PM\n",
        "        },\n",
        "    \"hospitalsNearby\" : False,\n",
        "    \"usualSpeedLimit\" : 40 # in km/hr\n",
        "}\n",
        "\n",
        "# USER INPUT SECTION ENDS\n",
        "# -----------------------------------------------\n",
        "# MICRO-CONTROLLER CODE STARTS\n",
        "#while True :\n",
        "    #print(\"processConditions(myLocation,APIKEY)\")\n",
        "\n",
        "'''\n",
        "MICRO CONTROLLER CODE WILL BE ADDED IN SPRINT 3 AS PER OUR PLANNED SPRINT SCHEDULE\n",
        "'''\n",
        "\n",
        "# MICRO-CONTROLLER CODE ENDS"
      ],
      "metadata": {
        "colab": {
          "base_uri": "https://localhost:8080/",
          "height": 35
        },
        "id": "wDWxj-lZRmOT",
        "outputId": "7b2d8e4e-8871-451c-be86-3bc688b6639c"
      },
      "execution_count": 10,
      "outputs": [
        {
          "output_type": "execute_result",
          "data": {
            "text/plain": [
              "'\\nMICRO CONTROLLER CODE WILL BE ADDED IN SPRINT 3 AS PER OUR PLANNED SPRINT SCHEDULE\\n'"
            ],
            "application/vnd.google.colaboratory.intrinsic+json": {
              "type": "string"
            }
          },
          "metadata": {},
          "execution_count": 10
        }
      ]
    }
  ]
}